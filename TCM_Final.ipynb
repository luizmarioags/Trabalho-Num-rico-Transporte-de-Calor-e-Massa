{
  "nbformat": 4,
  "nbformat_minor": 0,
  "metadata": {
    "colab": {
      "name": "TCM_Final.ipynb",
      "provenance": [],
      "collapsed_sections": [],
      "include_colab_link": true
    },
    "kernelspec": {
      "name": "python3",
      "display_name": "Python 3"
    },
    "language_info": {
      "name": "python"
    }
  },
  "cells": [
    {
      "cell_type": "markdown",
      "metadata": {
        "id": "view-in-github",
        "colab_type": "text"
      },
      "source": [
        "<a href=\"https://colab.research.google.com/github/luizmarioags/Trabalho-Num-rico-Transporte-de-Calor-e-Massa/blob/main/TCM_Final.ipynb\" target=\"_parent\"><img src=\"https://colab.research.google.com/assets/colab-badge.svg\" alt=\"Open In Colab\"/></a>"
      ]
    },
    {
      "cell_type": "code",
      "execution_count": null,
      "metadata": {
        "id": "6k0XZR1Xt4rk"
      },
      "outputs": [],
      "source": [
        "import numpy as np\n",
        "import matplotlib.pyplot as plt \n",
        "from numpy import pi as p \n",
        "from numpy import exp as e\n",
        "import mpmath as mp\n",
        "from mpmath import nsum, inf"
      ]
    },
    {
      "cell_type": "code",
      "source": [
        "#Exemplo Roteiro\n",
        "# N é o número de intervalos de domínio\n",
        "# k_final é o número de passos de tempo desejado para análise\n",
        "# L é o tamanho da barra\n",
        "\n",
        "N =10\n",
        "k_final = [10,50,90,130]\n",
        "k_final = np.array(k_final)\n",
        "L = 1\n",
        "x = np.linspace(0.0,L,N+1)\n",
        "delta_x = L/N\n",
        "delta_t = 0.2*(delta_x**2)\n",
        "#Definindo a Matriz de temperatura\n",
        "Temperatura = np.zeros(N+1, float)\n",
        "Resultado = np.zeros(len(k_final),list)\n",
        "Temperatura[N] = 1.0\n",
        "Temperatura_Nova = np.copy(Temperatura)\n",
        "\n",
        "for j in range(0, len(k_final)):\n",
        "  for k in range(1, k_final[j] + 1):\n",
        "    for i in range(1,N):\n",
        "      Temperatura_Nova[i] = Temperatura[i] + (delta_t/(delta_x**2))*(Temperatura[i+1] - 2.0*Temperatura[i] + Temperatura[i - 1])\n",
        "    Temperatura = np.copy(Temperatura_Nova)\n",
        "  t = k*(delta_t)\n",
        "  Resultado[j] = Temperatura\n"
      ],
      "metadata": {
        "id": "cQ9hEf8-uW7o"
      },
      "execution_count": null,
      "outputs": []
    },
    {
      "cell_type": "code",
      "source": [
        "#Gráfico Pontilhado\n",
        "fig = plt.figure()\n",
        "ax = fig.add_subplot()\n",
        "line_style = ['or','ob','og','ok']\n",
        "\n",
        "for i in range(len(Resultado)):\n",
        "  fig.suptitle('t = %.3f'%k_final[i], fontsize =18, fontweight = 'bold')\n",
        "\n",
        "ax.set_ylabel('$T$', fontsize = 18)\n",
        "ax.set_xlabel('$x$', fontsize = 18)\n",
        "\n",
        "for i in range(len(Resultado)):\n",
        "  plt.plot(x, Resultado[i],line_style[i], lw = 4)\n",
        "\n",
        "plt.show()\n"
      ],
      "metadata": {
        "id": "2pKwYGyOyNvo"
      },
      "execution_count": null,
      "outputs": []
    },
    {
      "cell_type": "code",
      "source": [
        "#Gráfico continuo para um único passo\n",
        "fig = plt.figure()\n",
        "ax = fig.add_subplot()\n",
        "\n",
        "fig.suptitle('t = %.3f'%t, fontsize =18, fontweight = 'bold')\n",
        "ax.set_ylabel('$T$', fontsize = 18)\n",
        "ax.set_xlabel('$x$', fontsize = 18)\n",
        "\n",
        "plt.plot(x, Temperatura, '-r', lw = 4)\n",
        "plt.show()"
      ],
      "metadata": {
        "id": "xrG0eSUsgg0T"
      },
      "execution_count": null,
      "outputs": []
    },
    {
      "cell_type": "code",
      "source": [
        "#Gráfico continuo para vários passos de tempo\n",
        "fig = plt.figure()\n",
        "ax = fig.add_subplot()\n",
        "line_style = ['-r','-b','-g','-k']\n",
        "\n",
        "for i in range(len(Resultado)):\n",
        "  fig.suptitle('t = %.3f'%k_final[i], fontsize =18, fontweight = 'bold')\n",
        "\n",
        "ax.set_ylabel('$T$', fontsize = 18)\n",
        "ax.set_xlabel('$x$', fontsize = 18)\n",
        "\n",
        "for i in range(len(Resultado)):\n",
        "  plt.plot(x, Resultado[i],line_style[i], lw = 4)\n",
        "\n",
        "plt.show()\n"
      ],
      "metadata": {
        "id": "AerbRl4ug3cK"
      },
      "execution_count": null,
      "outputs": []
    },
    {
      "cell_type": "code",
      "source": [
        "#Gráfico Pontilhado sobreposto com o Contínuo para vários passos de tempo\n",
        "fig = plt.figure()\n",
        "ax = fig.add_subplot()\n",
        "line_style = ['or','ob','og','ok']\n",
        "line_continuos = ['-r','-b','-g','-k']\n",
        "\n",
        "for i in range(len(Resultado)):\n",
        "  fig.suptitle('t = %.3f'%k_final[i], fontsize =18, fontweight = 'bold')\n",
        "\n",
        "ax.set_ylabel('$T$', fontsize = 18)\n",
        "ax.set_xlabel('$x$', fontsize = 18)\n",
        "\n",
        "for i in range(len(Resultado)):\n",
        "  plt.plot(x, Resultado[i],line_style[i], lw = 4)\n",
        "  plt.plot(x,Resultado[i], line_continuos[i])\n",
        "plt.show()"
      ],
      "metadata": {
        "id": "kPWIofSfFoOs"
      },
      "execution_count": null,
      "outputs": []
    },
    {
      "cell_type": "code",
      "source": [
        "#Exercício 1 e Exercício 4\n",
        "N =100\n",
        "L = 1\n",
        "x = np.linspace(0.0,L,N+1)\n",
        "delta_x = L/N\n",
        "delta_t = 0.2*(delta_x**2)\n",
        "k_final = [10,50,90,130]\n",
        "#Definindo a Matriz de temperatura\n",
        "Temperatura = np.zeros(N+1, float)\n",
        "Resultado = np.zeros(len(k_final),list)\n",
        "#Primeiro passo de tempo, pois temos que o primeiro elemento da nossa matriz de temperatura é igual a 1, isto é t = 0. \n",
        "#Nesse laço, para i dentro do range de 0 até N-1, que exclui o último ponto, indo sempre de 0 até N.\n",
        "#Definimos toda a matriz de temperatura a partir da condição inicial, excluindo o último ponto do domínio, que é o final. \n",
        "#Equivalente a escrever o np.ones()\n",
        "for i in range(0,N-1):\n",
        "  Temperatura[i] = 1.0\n",
        "\n",
        "Temperatura_Nova = np.copy(Temperatura)\n",
        "\n",
        "for j in range(0, len(k_final)):\n",
        "  for k in range(1, k_final[j] + 1):\n",
        "    for i in range(1,N):\n",
        "      Temperatura_Nova[i] = Temperatura[i] + (delta_t/(delta_x**2))\\\n",
        "                                          *(Temperatura[i+1] - 2.0*Temperatura[i] + Temperatura[i - 1])\n",
        "      Temperatura = np.copy(Temperatura_Nova)\n",
        "  t = k*(delta_t)\n",
        "  print(\"Temperatura no tempo {}:{}\".format(t,Temperatura))\n",
        "  Resultado[j] = Temperatura"
      ],
      "metadata": {
        "id": "NzDgzP2bAWIJ"
      },
      "execution_count": null,
      "outputs": []
    },
    {
      "cell_type": "code",
      "source": [
        "#Gráfico continuo para um único passo\n",
        "fig = plt.figure()\n",
        "ax = fig.add_subplot()\n",
        "\n",
        "fig.suptitle('t = %.3f'%t, fontsize =18, fontweight = 'bold')\n",
        "ax.set_ylabel('$T$', fontsize = 18)\n",
        "ax.set_xlabel('$x$', fontsize = 18)\n",
        "\n",
        "plt.plot(x, Temperatura, '-r', lw = 4)\n",
        "plt.show()"
      ],
      "metadata": {
        "id": "Zdw8TISoDWm7"
      },
      "execution_count": null,
      "outputs": []
    },
    {
      "cell_type": "code",
      "source": [
        "#Gráfico Pontilhado\n",
        "fig = plt.figure()\n",
        "ax = fig.add_subplot()\n",
        "line_style = ['or','ob','og','ok']\n",
        "\n",
        "for i in range(len(Resultado)):\n",
        "  fig.suptitle('t = %.3f'%k_final[i], fontsize =18, fontweight = 'bold')\n",
        "\n",
        "ax.set_ylabel('$T$', fontsize = 18)\n",
        "ax.set_xlabel('$x$', fontsize = 18)\n",
        "for i in range(len(Resultado)):\n",
        "  plt.plot(x, Resultado[i],line_style[i], lw = 4)\n",
        "\n",
        "plt.show()"
      ],
      "metadata": {
        "id": "hK0P4DEkgiee"
      },
      "execution_count": null,
      "outputs": []
    },
    {
      "cell_type": "code",
      "source": [
        "#Gráfico continuo para vários passos de tempo\n",
        "fig = plt.figure()\n",
        "ax = fig.add_subplot()\n",
        "line_style = ['-r','-b','-g','-k']\n",
        "\n",
        "for i in range(len(Resultado)):\n",
        "  fig.suptitle('t = %.3f'%k_final[i], fontsize =18, fontweight = 'bold')\n",
        "\n",
        "ax.set_ylabel('$T$', fontsize = 18)\n",
        "ax.set_xlabel('$x$', fontsize = 18)\n",
        "\n",
        "for i in range(len(Resultado)):\n",
        "  plt.plot(x,Resultado[i],line_style[i], lw = 4)\n",
        "\n",
        "plt.show()"
      ],
      "metadata": {
        "id": "bBtwSBcgWuNL"
      },
      "execution_count": null,
      "outputs": []
    },
    {
      "cell_type": "code",
      "source": [
        "#Gráfico pontilhado sobreposto com o continuo para vários passos\n",
        "fig = plt.figure()\n",
        "ax = fig.add_subplot()\n",
        "line_style = ['or','ob','og','ok']\n",
        "line_continuos = ['-r','-b','-g','-k']\n",
        "\n",
        "for i in range(len(Resultado)):\n",
        "  fig.suptitle('t = %.3f'%k_final[i], fontsize =18, fontweight = 'bold')\n",
        "\n",
        "ax.set_ylabel('$T$', fontsize = 18)\n",
        "ax.set_xlabel('$x$', fontsize = 18)\n",
        "\n",
        "for i in range(len(Resultado)):\n",
        "  plt.plot(x, Resultado[i],line_style[i], lw = 4)\n",
        "  plt.plot(x,Resultado[i], line_continuos[i])\n",
        "plt.show()"
      ],
      "metadata": {
        "id": "G-wqwmNzq2kh"
      },
      "execution_count": null,
      "outputs": []
    },
    {
      "cell_type": "code",
      "source": [
        "#Exercício 2 e Exercício 5\n",
        "N =100\n",
        "k_final = [10,50,90,130]\n",
        "L = 1\n",
        "x = np.linspace(0.0,L,N+1)\n",
        "delta_x = L/N\n",
        "delta_t = 0.2*(delta_x**2)\n",
        "#Definindo a Matriz de temperatura\n",
        "Temperatura = np.zeros(N+1, float)\n",
        "Resultado = np.zeros(len(k_final),list)\n",
        "#Aqui a temperatura no inicio do domínio, isto é, N = 0 é igual a 1, logo definimos a matriz de temperatura no ponto 0 como igual a 1\n",
        "Temperatura[0] = 1.0\n",
        "Temperatura_Nova = np.copy(Temperatura)\n",
        "#O primeiro for salva os passos de tempo, já o segundo os contabiliza\n",
        "for j in range(0, len(k_final)):\n",
        "  for k in range(1, k_final[j] + 1):\n",
        "    for i in range(1,N):\n",
        "      Temperatura_Nova[i] = Temperatura[i] + (delta_t/(delta_x**2))*(Temperatura[i+1] - 2.0*Temperatura[i] + Temperatura[i - 1])\n",
        "    Temperatura = np.copy(Temperatura_Nova)\n",
        "  t = k*(delta_t)\n",
        "  Resultado[j] = Temperatura\n",
        "  print(Temperatura)"
      ],
      "metadata": {
        "id": "n4PAdIA0FNbl"
      },
      "execution_count": null,
      "outputs": []
    },
    {
      "cell_type": "code",
      "source": [
        "#Gráfico continuo para um único passo\n",
        "fig = plt.figure()\n",
        "ax = fig.add_subplot()\n",
        "\n",
        "fig.suptitle('t = %.3f'%t, fontsize =18, fontweight = 'bold')\n",
        "ax.set_ylabel('$T$', fontsize = 18)\n",
        "ax.set_xlabel('$x$', fontsize = 18)\n",
        "\n",
        "plt.plot(x, Temperatura, '-r', lw = 4)\n",
        "plt.show()"
      ],
      "metadata": {
        "id": "QpiUQbGdJUsr"
      },
      "execution_count": null,
      "outputs": []
    },
    {
      "cell_type": "code",
      "source": [
        "#Gráfico continuo para vários passos de tempo\n",
        "fig = plt.figure()\n",
        "ax = fig.add_subplot()\n",
        "line_style = ['-r','-b','-g','-k']\n",
        "\n",
        "for i in range(len(Resultado)):\n",
        "  fig.suptitle('t = %.3f'%k_final[i], fontsize =18, fontweight = 'bold')\n",
        "\n",
        "ax.set_ylabel('$T$', fontsize = 18)\n",
        "ax.set_xlabel('$x$', fontsize = 18)\n",
        "\n",
        "for i in range(len(Resultado)):\n",
        "  plt.plot(x,Resultado[i],line_style[i], lw = 4)\n",
        "\n",
        "plt.show()"
      ],
      "metadata": {
        "id": "lfa-RnoYJdAJ"
      },
      "execution_count": null,
      "outputs": []
    },
    {
      "cell_type": "code",
      "source": [
        "#Gráfico pontilhado para vários passos de tempo\n",
        "fig = plt.figure()\n",
        "ax = fig.add_subplot()\n",
        "line_style = ['or','ob','og','ok']\n",
        "\n",
        "for i in range(len(Resultado)):\n",
        "  fig.suptitle('t = %.3f'%k_final[i], fontsize =18, fontweight = 'bold')\n",
        "  \n",
        "ax.set_ylabel('$T$', fontsize = 18)\n",
        "ax.set_xlabel('$x$', fontsize = 18)\n",
        "\n",
        "for i in range(len(Resultado)):\n",
        "  plt.plot(x, Resultado[i],line_style[i], lw = 4)\n",
        "  \n",
        "plt.show()\n"
      ],
      "metadata": {
        "id": "UA3tC73QTpGh"
      },
      "execution_count": null,
      "outputs": []
    },
    {
      "cell_type": "code",
      "source": [
        "#Gráfico Pontilhado sobreposto com o continuo para vários passos\n",
        "fig = plt.figure()\n",
        "ax = fig.add_subplot()\n",
        "line_style = ['or','ob','og','ok']\n",
        "line_continuos = ['-r','-b','-g','-k']\n",
        "\n",
        "for i in range(len(Resultado)):\n",
        "  fig.suptitle('t = %.3f'%k_final[i], fontsize =18, fontweight = 'bold')\n",
        "\n",
        "ax.set_ylabel('$T$', fontsize = 18)\n",
        "ax.set_xlabel('$x$', fontsize = 18)\n",
        "\n",
        "for i in range(len(Resultado)):\n",
        "  plt.plot(x, Resultado[i],line_style[i], lw = 4)\n",
        "  plt.plot(x,Resultado[i], line_continuos[i])\n",
        "plt.show()"
      ],
      "metadata": {
        "id": "kRUG9hmAtAdz"
      },
      "execution_count": null,
      "outputs": []
    },
    {
      "cell_type": "code",
      "source": [
        "#Exercício 3 \n",
        "N =100\n",
        "L = 2\n",
        "x = np.linspace(0.0,L,N+1)\n",
        "delta_x = L/N\n",
        "delta_t = 0.2*(delta_x**2)\n",
        "k_final = [10,50,90,130]\n",
        "#Definindo a Matriz de temperatura\n",
        "Temperatura = np.zeros(N+1, float)\n",
        "Resultado = np.zeros(len(k_final),list)\n",
        "#Primeiro passo de tempo, pois temos que o primeiro elemento da nossa matriz de temperatura é igual a 1, isto é t = 0. \n",
        "#Nesse laço, para i dentro do range de 0 até N-1, que exclui o último ponto, indo sempre de 0 até N.\n",
        "#Definimos toda a matriz de temperatura a partir da condição inicial, excluindo o último ponto do domínio, que é o final. \n",
        "#Equivalente a escrever o np.ones()\n",
        "for i in range(0,N-1):\n",
        "  Temperatura[i] = np.sin((p/2)*x[i])\n",
        "Temperatura_Nova = np.copy(Temperatura)\n",
        "\n",
        "for j in range(0, len(k_final)):\n",
        "  for k in range(1, k_final[j] + 1):\n",
        "    for i in range(1,N):\n",
        "      Temperatura_Nova[i] = Temperatura[i] + (delta_t/(delta_x**2))\\\n",
        "                                          *(Temperatura[i+1] - 2.0*Temperatura[i] + Temperatura[i - 1])\n",
        "      Temperatura = np.copy(Temperatura_Nova)\n",
        "  t = k*(delta_t)\n",
        "  print(\"Temperatura no tempo {}:{}\".format(t,Temperatura))\n",
        "  Resultado[j] = Temperatura"
      ],
      "metadata": {
        "id": "diUyonLbYwid"
      },
      "execution_count": null,
      "outputs": []
    },
    {
      "cell_type": "code",
      "source": [
        "#Gráfico continuo para um único passo\n",
        "fig = plt.figure()\n",
        "ax = fig.add_subplot()\n",
        "\n",
        "fig.suptitle('t = %.3f'%t, fontsize =18, fontweight = 'bold')\n",
        "ax.set_ylabel('$T$', fontsize = 18)\n",
        "ax.set_xlabel('$x$', fontsize = 18)\n",
        "\n",
        "plt.plot(x, Temperatura, '-r', lw = 4)\n",
        "plt.show()"
      ],
      "metadata": {
        "id": "c4rQxZDAZIyl"
      },
      "execution_count": null,
      "outputs": []
    },
    {
      "cell_type": "code",
      "source": [
        "#Gráfico continuo para vários passos de tempo\n",
        "fig = plt.figure()\n",
        "ax = fig.add_subplot()\n",
        "line_style = ['-r','-b','-g','-k']\n",
        "\n",
        "for i in range(len(Resultado)):\n",
        "  fig.suptitle('t = %.3f'%k_final[i], fontsize =18, fontweight = 'bold')\n",
        "\n",
        "ax.set_ylabel('$T$', fontsize = 18)\n",
        "ax.set_xlabel('$x$', fontsize = 18)\n",
        "\n",
        "for i in range(len(Resultado)):\n",
        "  plt.plot(x,Resultado[i],line_style[i], lw = 4)\n",
        "\n",
        "plt.show()"
      ],
      "metadata": {
        "id": "gOM1BT2UZJYZ"
      },
      "execution_count": null,
      "outputs": []
    },
    {
      "cell_type": "code",
      "source": [
        "#Gráfico Pontilhado para vários passos de tempo\n",
        "fig = plt.figure()\n",
        "ax = fig.add_subplot()\n",
        "line_style = ['or','ob','og','ok']\n",
        "\n",
        "\n",
        "for i in range(len(Resultado)):\n",
        "  fig.suptitle('t = %.3f'%k_final[i], fontsize =18, fontweight = 'bold')\n",
        "\n",
        "ax.set_ylabel('$T$', fontsize = 18)\n",
        "ax.set_xlabel('$x$', fontsize = 18)\n",
        "\n",
        "for i in range(len(Resultado)):\n",
        "  plt.plot(x, Resultado[i],line_style[i], lw = 4)\n",
        "plt.show()"
      ],
      "metadata": {
        "id": "zdqJQ5k_ZL88"
      },
      "execution_count": null,
      "outputs": []
    },
    {
      "cell_type": "code",
      "source": [
        "#Gráfico Pontilhado sobreposto com o continuo para vários passos\n",
        "fig = plt.figure()\n",
        "ax = fig.add_subplot()\n",
        "line_style = ['or','ob','og','ok']\n",
        "line_continuos = ['-r','-b','-g','-k']\n",
        "\n",
        "for i in range(len(Resultado)):\n",
        "  fig.suptitle('t = %.3f'%k_final[i], fontsize =18, fontweight = 'bold')\n",
        "\n",
        "ax.set_ylabel('$T$', fontsize = 18)\n",
        "ax.set_xlabel('$x$', fontsize = 18)\n",
        "\n",
        "for i in range(len(Resultado)):\n",
        "  plt.plot(x, Resultado[i],line_style[i], lw = 4)\n",
        "  plt.plot(x,Resultado[i], line_continuos[i])\n",
        "plt.show()"
      ],
      "metadata": {
        "id": "cHejBg3Eo4o9"
      },
      "execution_count": null,
      "outputs": []
    },
    {
      "cell_type": "code",
      "source": [
        "#Resolução Análitica do Exercício 3\n",
        "resultado_analitico = np.zeros([len(k_final),N])\n",
        "funcao_analitica = lambda x, t: (e((-(p**2)*t)/4)*np.sin((p/2)*x))\n",
        "for i in range(len(k_final)):\n",
        "  for j in range(N):\n",
        "    resultado_analitico[i][j] = funcao_analitica(x[j], k_final[i])"
      ],
      "metadata": {
        "id": "ir9hDFUnKEZT"
      },
      "execution_count": null,
      "outputs": []
    },
    {
      "cell_type": "code",
      "source": [
        "#Grafico da Resolução Analítica do Exercício 3\n",
        "fig = plt.figure()\n",
        "ax = fig.add_subplot()\n",
        "line_style = ['-b']\n",
        "for i in range(len(Resultado)):\n",
        "  fig.suptitle('t = %.3f'%k_final[i], fontsize =18, fontweight = 'bold')\n",
        "\n",
        "ax.set_ylabel('$T$', fontsize = 18)\n",
        "ax.set_xlabel('$x$', fontsize = 18)\n",
        "\n",
        "for i in range(len(Resultado)):\n",
        "  plt.plot(x,Resultado[i],resultado_analitico[i][j],line_style[i], lw = 4)\n",
        "\n",
        "plt.show()"
      ],
      "metadata": {
        "id": "ED3X198tZViz"
      },
      "execution_count": null,
      "outputs": []
    },
    {
      "cell_type": "code",
      "source": [
        "#Resolução Análitica do Exercício 4\n",
        "resultado_analitico = np.zeros([len(k_final),N])\n",
        "funcao_analitica_exercicio4 = nsum(lambda n : (4/(((2 * n) - 1) * p)) *\n",
        "                                      mp.sin(((2*n)- 1) * p * x)*\n",
        "                                      mp.exp(-(((2*n)- 1) ** 2) * (p ** 2) * t),[1, inf])\n",
        "for i in range(len(k_final)):\n",
        "  for j in range(N):\n",
        "    resultado_analitico[i][j] = funcao_analitica_exercicio4(x[j], k_final[i])"
      ],
      "metadata": {
        "id": "ARA-mc_3gT0V"
      },
      "execution_count": null,
      "outputs": []
    },
    {
      "cell_type": "code",
      "source": [
        "#Grafico da Resolução Analítica do Exercício 4\n",
        "fig = plt.figure()\n",
        "ax = fig.add_subplot()\n",
        "line_style = ['-b']\n",
        "for i in range(len(Resultado)):\n",
        "  fig.suptitle('t = %.3f'%k_final[i], fontsize =18, fontweight = 'bold')\n",
        "\n",
        "ax.set_ylabel('$T$', fontsize = 18)\n",
        "ax.set_xlabel('$x$', fontsize = 18)\n",
        "\n",
        "for i in range(len(Resultado)):\n",
        "  plt.plot(x,Resultado[i],resultado_analitico[i][j],line_style[i], lw = 4)\n",
        "\n",
        "plt.show()"
      ],
      "metadata": {
        "id": "1ZLGfBd0t5Fq"
      },
      "execution_count": null,
      "outputs": []
    },
    {
      "cell_type": "code",
      "source": [
        "#Solução Análitica do Exercício 5 \n",
        "resultado_analitico = np.zeros([len(k_final),N])\n",
        "funcao_analitica_exercicio5 = 1 - x - nsum(lambda n :(((2 /(n*p))*mp.sin(n*p*x)*mp.exp(-(n**2)*(p**2)*t))), [1, inf])\n",
        "for i in range(len(k_final)):\n",
        "  for j in range(N):\n",
        "    resultado_analitico[i][j] = funcao_analitica_exercicio5(x[j], k_final[i])"
      ],
      "metadata": {
        "id": "u55hVZTiu81f"
      },
      "execution_count": null,
      "outputs": []
    },
    {
      "cell_type": "code",
      "source": [
        "#Grafico da Resolução Analítica do Exercício 5\n",
        "fig = plt.figure()\n",
        "ax = fig.add_subplot()\n",
        "line_style = ['-b']\n",
        "for i in range(len(Resultado)):\n",
        "  fig.suptitle('t = %.3f'%k_final[i], fontsize =18, fontweight = 'bold')\n",
        "\n",
        "ax.set_ylabel('$T$', fontsize = 18)\n",
        "ax.set_xlabel('$x$', fontsize = 18)\n",
        "\n",
        "for i in range(len(Resultado)):\n",
        "  plt.plot(x,Resultado[i],resultado_analitico[i][j],line_style[i], lw = 4)\n",
        "\n",
        "plt.show()"
      ],
      "metadata": {
        "id": "kl10XNJPwYkP"
      },
      "execution_count": null,
      "outputs": []
    }
  ]
}